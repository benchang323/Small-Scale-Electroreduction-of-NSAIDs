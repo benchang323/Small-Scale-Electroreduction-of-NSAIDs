{
 "cells": [
  {
   "cell_type": "markdown",
   "metadata": {},
   "source": [
    "# AP Research Data Processing Notebook 1: Pre-Experiment\n",
    "The following codes in this Jupyter notebook (E0.ipynb) contains the data analysis portion of Benjamin Chang's AP Research project on *Optimal Conditions For Small-Scale Electroreduction of Common Non-Steroidal Anti-Inflammatory Drugs*. All charts, graphs, and figures are produced from the raw data in .csv files and manipulated by the following codes."
   ]
  },
  {
   "cell_type": "markdown",
   "metadata": {},
   "source": [
    "## Initializing Libraries and Style"
   ]
  },
  {
   "cell_type": "markdown",
   "metadata": {},
   "source": [
    "## Salicylic Acid"
   ]
  },
  {
   "cell_type": "markdown",
   "metadata": {},
   "source": [
    "## Ethyl Alcohol"
   ]
  },
  {
   "cell_type": "markdown",
   "metadata": {},
   "source": [
    "## Citric Acid Monohydrate"
   ]
  },
  {
   "cell_type": "markdown",
   "metadata": {},
   "source": [
    "## Acetylsalicylic Acid"
   ]
  },
  {
   "cell_type": "markdown",
   "metadata": {},
   "source": [
    "## Acetaminophen"
   ]
  }
 ],
 "metadata": {
  "language_info": {
   "name": "python"
  },
  "orig_nbformat": 4
 },
 "nbformat": 4,
 "nbformat_minor": 2
}
